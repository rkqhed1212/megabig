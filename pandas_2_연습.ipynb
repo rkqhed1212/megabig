{
  "nbformat": 4,
  "nbformat_minor": 0,
  "metadata": {
    "colab": {
      "name": "pandas 2 연습",
      "provenance": [],
      "collapsed_sections": [],
      "include_colab_link": true
    },
    "kernelspec": {
      "name": "python3",
      "display_name": "Python 3"
    }
  },
  "cells": [
    {
      "cell_type": "markdown",
      "metadata": {
        "id": "view-in-github",
        "colab_type": "text"
      },
      "source": [
        "<a href=\"https://colab.research.google.com/github/rkqhed1212/megabig/blob/master/pandas_2_%EC%97%B0%EC%8A%B5.ipynb\" target=\"_parent\"><img src=\"https://colab.research.google.com/assets/colab-badge.svg\" alt=\"Open In Colab\"/></a>"
      ]
    },
    {
      "cell_type": "code",
      "metadata": {
        "id": "ce899khWUefs",
        "colab_type": "code",
        "colab": {}
      },
      "source": [
        "import pandas as pd\n",
        "import numpy as np\n",
        "\n"
      ],
      "execution_count": 0,
      "outputs": []
    },
    {
      "cell_type": "code",
      "metadata": {
        "id": "qIy8K2IzYz9S",
        "colab_type": "code",
        "colab": {
          "base_uri": "https://localhost:8080/",
          "height": 68
        },
        "outputId": "4a4a5665-7243-4b65-dc1b-7797fce2c829"
      },
      "source": [
        "dataes = pd.date_range('2019-10-22',periods=6)\n",
        "dataes"
      ],
      "execution_count": 20,
      "outputs": [
        {
          "output_type": "execute_result",
          "data": {
            "text/plain": [
              "DatetimeIndex(['2019-10-22', '2019-10-23', '2019-10-24', '2019-10-25',\n",
              "               '2019-10-26', '2019-10-27'],\n",
              "              dtype='datetime64[ns]', freq='D')"
            ]
          },
          "metadata": {
            "tags": []
          },
          "execution_count": 20
        }
      ]
    },
    {
      "cell_type": "markdown",
      "metadata": {
        "id": "shPub_tIaoBM",
        "colab_type": "text"
      },
      "source": [
        "sadasd"
      ]
    },
    {
      "cell_type": "code",
      "metadata": {
        "id": "3lz9Px7xZEgl",
        "colab_type": "code",
        "colab": {
          "base_uri": "https://localhost:8080/",
          "height": 34
        },
        "outputId": "70103a54-5cac-4e46-bbb2-47e57f2cc672"
      },
      "source": [
        "pd.DataFrame\n"
      ],
      "execution_count": 21,
      "outputs": [
        {
          "output_type": "execute_result",
          "data": {
            "text/plain": [
              "pandas.core.frame.DataFrame"
            ]
          },
          "metadata": {
            "tags": []
          },
          "execution_count": 21
        }
      ]
    },
    {
      "cell_type": "code",
      "metadata": {
        "id": "YQNdbxqFapaP",
        "colab_type": "code",
        "colab": {
          "base_uri": "https://localhost:8080/",
          "height": 235
        },
        "outputId": "3f659e18-f7c9-49dc-d341-d62e251df086"
      },
      "source": [
        "df= pd.DataFrame(np.random.randn(6,4),index=dataes, columns=['A','B','C','D'])\n",
        "df"
      ],
      "execution_count": 24,
      "outputs": [
        {
          "output_type": "execute_result",
          "data": {
            "text/html": [
              "<div>\n",
              "<style scoped>\n",
              "    .dataframe tbody tr th:only-of-type {\n",
              "        vertical-align: middle;\n",
              "    }\n",
              "\n",
              "    .dataframe tbody tr th {\n",
              "        vertical-align: top;\n",
              "    }\n",
              "\n",
              "    .dataframe thead th {\n",
              "        text-align: right;\n",
              "    }\n",
              "</style>\n",
              "<table border=\"1\" class=\"dataframe\">\n",
              "  <thead>\n",
              "    <tr style=\"text-align: right;\">\n",
              "      <th></th>\n",
              "      <th>A</th>\n",
              "      <th>B</th>\n",
              "      <th>C</th>\n",
              "      <th>D</th>\n",
              "    </tr>\n",
              "  </thead>\n",
              "  <tbody>\n",
              "    <tr>\n",
              "      <th>2019-10-22</th>\n",
              "      <td>1.168435</td>\n",
              "      <td>1.715642</td>\n",
              "      <td>-1.840828</td>\n",
              "      <td>0.032547</td>\n",
              "    </tr>\n",
              "    <tr>\n",
              "      <th>2019-10-23</th>\n",
              "      <td>-2.632491</td>\n",
              "      <td>0.020111</td>\n",
              "      <td>0.642379</td>\n",
              "      <td>-0.087645</td>\n",
              "    </tr>\n",
              "    <tr>\n",
              "      <th>2019-10-24</th>\n",
              "      <td>-0.498802</td>\n",
              "      <td>-1.095818</td>\n",
              "      <td>-0.186463</td>\n",
              "      <td>-0.902903</td>\n",
              "    </tr>\n",
              "    <tr>\n",
              "      <th>2019-10-25</th>\n",
              "      <td>0.050049</td>\n",
              "      <td>-0.789347</td>\n",
              "      <td>0.120385</td>\n",
              "      <td>0.011295</td>\n",
              "    </tr>\n",
              "    <tr>\n",
              "      <th>2019-10-26</th>\n",
              "      <td>2.034358</td>\n",
              "      <td>-0.331135</td>\n",
              "      <td>0.116702</td>\n",
              "      <td>0.881352</td>\n",
              "    </tr>\n",
              "    <tr>\n",
              "      <th>2019-10-27</th>\n",
              "      <td>-0.459417</td>\n",
              "      <td>1.007739</td>\n",
              "      <td>1.423321</td>\n",
              "      <td>-1.307063</td>\n",
              "    </tr>\n",
              "  </tbody>\n",
              "</table>\n",
              "</div>"
            ],
            "text/plain": [
              "                   A         B         C         D\n",
              "2019-10-22  1.168435  1.715642 -1.840828  0.032547\n",
              "2019-10-23 -2.632491  0.020111  0.642379 -0.087645\n",
              "2019-10-24 -0.498802 -1.095818 -0.186463 -0.902903\n",
              "2019-10-25  0.050049 -0.789347  0.120385  0.011295\n",
              "2019-10-26  2.034358 -0.331135  0.116702  0.881352\n",
              "2019-10-27 -0.459417  1.007739  1.423321 -1.307063"
            ]
          },
          "metadata": {
            "tags": []
          },
          "execution_count": 24
        }
      ]
    },
    {
      "cell_type": "code",
      "metadata": {
        "id": "EOEL6aKBbPIU",
        "colab_type": "code",
        "colab": {
          "base_uri": "https://localhost:8080/",
          "height": 142
        },
        "outputId": "2fc20def-2e1c-4a59-e2a0-a491f35198b5"
      },
      "source": [
        "df.head(3)"
      ],
      "execution_count": 25,
      "outputs": [
        {
          "output_type": "execute_result",
          "data": {
            "text/html": [
              "<div>\n",
              "<style scoped>\n",
              "    .dataframe tbody tr th:only-of-type {\n",
              "        vertical-align: middle;\n",
              "    }\n",
              "\n",
              "    .dataframe tbody tr th {\n",
              "        vertical-align: top;\n",
              "    }\n",
              "\n",
              "    .dataframe thead th {\n",
              "        text-align: right;\n",
              "    }\n",
              "</style>\n",
              "<table border=\"1\" class=\"dataframe\">\n",
              "  <thead>\n",
              "    <tr style=\"text-align: right;\">\n",
              "      <th></th>\n",
              "      <th>A</th>\n",
              "      <th>B</th>\n",
              "      <th>C</th>\n",
              "      <th>D</th>\n",
              "    </tr>\n",
              "  </thead>\n",
              "  <tbody>\n",
              "    <tr>\n",
              "      <th>2019-10-22</th>\n",
              "      <td>1.168435</td>\n",
              "      <td>1.715642</td>\n",
              "      <td>-1.840828</td>\n",
              "      <td>0.032547</td>\n",
              "    </tr>\n",
              "    <tr>\n",
              "      <th>2019-10-23</th>\n",
              "      <td>-2.632491</td>\n",
              "      <td>0.020111</td>\n",
              "      <td>0.642379</td>\n",
              "      <td>-0.087645</td>\n",
              "    </tr>\n",
              "    <tr>\n",
              "      <th>2019-10-24</th>\n",
              "      <td>-0.498802</td>\n",
              "      <td>-1.095818</td>\n",
              "      <td>-0.186463</td>\n",
              "      <td>-0.902903</td>\n",
              "    </tr>\n",
              "  </tbody>\n",
              "</table>\n",
              "</div>"
            ],
            "text/plain": [
              "                   A         B         C         D\n",
              "2019-10-22  1.168435  1.715642 -1.840828  0.032547\n",
              "2019-10-23 -2.632491  0.020111  0.642379 -0.087645\n",
              "2019-10-24 -0.498802 -1.095818 -0.186463 -0.902903"
            ]
          },
          "metadata": {
            "tags": []
          },
          "execution_count": 25
        }
      ]
    },
    {
      "cell_type": "code",
      "metadata": {
        "id": "UH73XEVdcZul",
        "colab_type": "code",
        "colab": {
          "base_uri": "https://localhost:8080/",
          "height": 34
        },
        "outputId": "43949918-3f63-4187-c7b5-1fd05598fcff"
      },
      "source": [
        "df.columns"
      ],
      "execution_count": 26,
      "outputs": [
        {
          "output_type": "execute_result",
          "data": {
            "text/plain": [
              "Index(['A', 'B', 'C', 'D'], dtype='object')"
            ]
          },
          "metadata": {
            "tags": []
          },
          "execution_count": 26
        }
      ]
    },
    {
      "cell_type": "code",
      "metadata": {
        "id": "X3uxVVY-ch8K",
        "colab_type": "code",
        "colab": {
          "base_uri": "https://localhost:8080/",
          "height": 297
        },
        "outputId": "4899b61f-95c7-4fc4-ec30-74027d7dbb1c"
      },
      "source": [
        "df.describe()"
      ],
      "execution_count": 28,
      "outputs": [
        {
          "output_type": "execute_result",
          "data": {
            "text/html": [
              "<div>\n",
              "<style scoped>\n",
              "    .dataframe tbody tr th:only-of-type {\n",
              "        vertical-align: middle;\n",
              "    }\n",
              "\n",
              "    .dataframe tbody tr th {\n",
              "        vertical-align: top;\n",
              "    }\n",
              "\n",
              "    .dataframe thead th {\n",
              "        text-align: right;\n",
              "    }\n",
              "</style>\n",
              "<table border=\"1\" class=\"dataframe\">\n",
              "  <thead>\n",
              "    <tr style=\"text-align: right;\">\n",
              "      <th></th>\n",
              "      <th>A</th>\n",
              "      <th>B</th>\n",
              "      <th>C</th>\n",
              "      <th>D</th>\n",
              "    </tr>\n",
              "  </thead>\n",
              "  <tbody>\n",
              "    <tr>\n",
              "      <th>count</th>\n",
              "      <td>6.000000</td>\n",
              "      <td>6.000000</td>\n",
              "      <td>6.000000</td>\n",
              "      <td>6.000000</td>\n",
              "    </tr>\n",
              "    <tr>\n",
              "      <th>mean</th>\n",
              "      <td>-0.056312</td>\n",
              "      <td>0.087865</td>\n",
              "      <td>0.045916</td>\n",
              "      <td>-0.228736</td>\n",
              "    </tr>\n",
              "    <tr>\n",
              "      <th>std</th>\n",
              "      <td>1.604818</td>\n",
              "      <td>1.081350</td>\n",
              "      <td>1.084193</td>\n",
              "      <td>0.773999</td>\n",
              "    </tr>\n",
              "    <tr>\n",
              "      <th>min</th>\n",
              "      <td>-2.632491</td>\n",
              "      <td>-1.095818</td>\n",
              "      <td>-1.840828</td>\n",
              "      <td>-1.307063</td>\n",
              "    </tr>\n",
              "    <tr>\n",
              "      <th>25%</th>\n",
              "      <td>-0.488956</td>\n",
              "      <td>-0.674794</td>\n",
              "      <td>-0.110671</td>\n",
              "      <td>-0.699089</td>\n",
              "    </tr>\n",
              "    <tr>\n",
              "      <th>50%</th>\n",
              "      <td>-0.204684</td>\n",
              "      <td>-0.155512</td>\n",
              "      <td>0.118544</td>\n",
              "      <td>-0.038175</td>\n",
              "    </tr>\n",
              "    <tr>\n",
              "      <th>75%</th>\n",
              "      <td>0.888838</td>\n",
              "      <td>0.760832</td>\n",
              "      <td>0.511881</td>\n",
              "      <td>0.027234</td>\n",
              "    </tr>\n",
              "    <tr>\n",
              "      <th>max</th>\n",
              "      <td>2.034358</td>\n",
              "      <td>1.715642</td>\n",
              "      <td>1.423321</td>\n",
              "      <td>0.881352</td>\n",
              "    </tr>\n",
              "  </tbody>\n",
              "</table>\n",
              "</div>"
            ],
            "text/plain": [
              "              A         B         C         D\n",
              "count  6.000000  6.000000  6.000000  6.000000\n",
              "mean  -0.056312  0.087865  0.045916 -0.228736\n",
              "std    1.604818  1.081350  1.084193  0.773999\n",
              "min   -2.632491 -1.095818 -1.840828 -1.307063\n",
              "25%   -0.488956 -0.674794 -0.110671 -0.699089\n",
              "50%   -0.204684 -0.155512  0.118544 -0.038175\n",
              "75%    0.888838  0.760832  0.511881  0.027234\n",
              "max    2.034358  1.715642  1.423321  0.881352"
            ]
          },
          "metadata": {
            "tags": []
          },
          "execution_count": 28
        }
      ]
    },
    {
      "cell_type": "code",
      "metadata": {
        "id": "GQPAv8Y-ckf_",
        "colab_type": "code",
        "colab": {
          "base_uri": "https://localhost:8080/",
          "height": 235
        },
        "outputId": "554e9916-29a5-4c1c-8652-ebdb38beb15f"
      },
      "source": [
        "df.sort_values(by='B', ascending=False)"
      ],
      "execution_count": 31,
      "outputs": [
        {
          "output_type": "execute_result",
          "data": {
            "text/html": [
              "<div>\n",
              "<style scoped>\n",
              "    .dataframe tbody tr th:only-of-type {\n",
              "        vertical-align: middle;\n",
              "    }\n",
              "\n",
              "    .dataframe tbody tr th {\n",
              "        vertical-align: top;\n",
              "    }\n",
              "\n",
              "    .dataframe thead th {\n",
              "        text-align: right;\n",
              "    }\n",
              "</style>\n",
              "<table border=\"1\" class=\"dataframe\">\n",
              "  <thead>\n",
              "    <tr style=\"text-align: right;\">\n",
              "      <th></th>\n",
              "      <th>A</th>\n",
              "      <th>B</th>\n",
              "      <th>C</th>\n",
              "      <th>D</th>\n",
              "    </tr>\n",
              "  </thead>\n",
              "  <tbody>\n",
              "    <tr>\n",
              "      <th>2019-10-22</th>\n",
              "      <td>1.168435</td>\n",
              "      <td>1.715642</td>\n",
              "      <td>-1.840828</td>\n",
              "      <td>0.032547</td>\n",
              "    </tr>\n",
              "    <tr>\n",
              "      <th>2019-10-27</th>\n",
              "      <td>-0.459417</td>\n",
              "      <td>1.007739</td>\n",
              "      <td>1.423321</td>\n",
              "      <td>-1.307063</td>\n",
              "    </tr>\n",
              "    <tr>\n",
              "      <th>2019-10-23</th>\n",
              "      <td>-2.632491</td>\n",
              "      <td>0.020111</td>\n",
              "      <td>0.642379</td>\n",
              "      <td>-0.087645</td>\n",
              "    </tr>\n",
              "    <tr>\n",
              "      <th>2019-10-26</th>\n",
              "      <td>2.034358</td>\n",
              "      <td>-0.331135</td>\n",
              "      <td>0.116702</td>\n",
              "      <td>0.881352</td>\n",
              "    </tr>\n",
              "    <tr>\n",
              "      <th>2019-10-25</th>\n",
              "      <td>0.050049</td>\n",
              "      <td>-0.789347</td>\n",
              "      <td>0.120385</td>\n",
              "      <td>0.011295</td>\n",
              "    </tr>\n",
              "    <tr>\n",
              "      <th>2019-10-24</th>\n",
              "      <td>-0.498802</td>\n",
              "      <td>-1.095818</td>\n",
              "      <td>-0.186463</td>\n",
              "      <td>-0.902903</td>\n",
              "    </tr>\n",
              "  </tbody>\n",
              "</table>\n",
              "</div>"
            ],
            "text/plain": [
              "                   A         B         C         D\n",
              "2019-10-22  1.168435  1.715642 -1.840828  0.032547\n",
              "2019-10-27 -0.459417  1.007739  1.423321 -1.307063\n",
              "2019-10-23 -2.632491  0.020111  0.642379 -0.087645\n",
              "2019-10-26  2.034358 -0.331135  0.116702  0.881352\n",
              "2019-10-25  0.050049 -0.789347  0.120385  0.011295\n",
              "2019-10-24 -0.498802 -1.095818 -0.186463 -0.902903"
            ]
          },
          "metadata": {
            "tags": []
          },
          "execution_count": 31
        }
      ]
    },
    {
      "cell_type": "code",
      "metadata": {
        "id": "jhsU_sK-cxY_",
        "colab_type": "code",
        "colab": {
          "base_uri": "https://localhost:8080/",
          "height": 136
        },
        "outputId": "01b33cf1-ce7b-4b4a-80bd-42e8ec0e560f"
      },
      "source": [
        "df['A']"
      ],
      "execution_count": 32,
      "outputs": [
        {
          "output_type": "execute_result",
          "data": {
            "text/plain": [
              "2019-10-22    1.168435\n",
              "2019-10-23   -2.632491\n",
              "2019-10-24   -0.498802\n",
              "2019-10-25    0.050049\n",
              "2019-10-26    2.034358\n",
              "2019-10-27   -0.459417\n",
              "Freq: D, Name: A, dtype: float64"
            ]
          },
          "metadata": {
            "tags": []
          },
          "execution_count": 32
        }
      ]
    },
    {
      "cell_type": "code",
      "metadata": {
        "id": "TB0zs74edG8g",
        "colab_type": "code",
        "colab": {
          "base_uri": "https://localhost:8080/",
          "height": 142
        },
        "outputId": "0f5a8c40-6f36-46e2-ba9f-8a7fa34c52e2"
      },
      "source": [
        "df[0:3]"
      ],
      "execution_count": 33,
      "outputs": [
        {
          "output_type": "execute_result",
          "data": {
            "text/html": [
              "<div>\n",
              "<style scoped>\n",
              "    .dataframe tbody tr th:only-of-type {\n",
              "        vertical-align: middle;\n",
              "    }\n",
              "\n",
              "    .dataframe tbody tr th {\n",
              "        vertical-align: top;\n",
              "    }\n",
              "\n",
              "    .dataframe thead th {\n",
              "        text-align: right;\n",
              "    }\n",
              "</style>\n",
              "<table border=\"1\" class=\"dataframe\">\n",
              "  <thead>\n",
              "    <tr style=\"text-align: right;\">\n",
              "      <th></th>\n",
              "      <th>A</th>\n",
              "      <th>B</th>\n",
              "      <th>C</th>\n",
              "      <th>D</th>\n",
              "    </tr>\n",
              "  </thead>\n",
              "  <tbody>\n",
              "    <tr>\n",
              "      <th>2019-10-22</th>\n",
              "      <td>1.168435</td>\n",
              "      <td>1.715642</td>\n",
              "      <td>-1.840828</td>\n",
              "      <td>0.032547</td>\n",
              "    </tr>\n",
              "    <tr>\n",
              "      <th>2019-10-23</th>\n",
              "      <td>-2.632491</td>\n",
              "      <td>0.020111</td>\n",
              "      <td>0.642379</td>\n",
              "      <td>-0.087645</td>\n",
              "    </tr>\n",
              "    <tr>\n",
              "      <th>2019-10-24</th>\n",
              "      <td>-0.498802</td>\n",
              "      <td>-1.095818</td>\n",
              "      <td>-0.186463</td>\n",
              "      <td>-0.902903</td>\n",
              "    </tr>\n",
              "  </tbody>\n",
              "</table>\n",
              "</div>"
            ],
            "text/plain": [
              "                   A         B         C         D\n",
              "2019-10-22  1.168435  1.715642 -1.840828  0.032547\n",
              "2019-10-23 -2.632491  0.020111  0.642379 -0.087645\n",
              "2019-10-24 -0.498802 -1.095818 -0.186463 -0.902903"
            ]
          },
          "metadata": {
            "tags": []
          },
          "execution_count": 33
        }
      ]
    },
    {
      "cell_type": "code",
      "metadata": {
        "id": "So78XeQndJ1Z",
        "colab_type": "code",
        "colab": {
          "base_uri": "https://localhost:8080/",
          "height": 142
        },
        "outputId": "da5704d7-2104-4f16-f571-c893b9d80bc4"
      },
      "source": [
        "df[3:]"
      ],
      "execution_count": 34,
      "outputs": [
        {
          "output_type": "execute_result",
          "data": {
            "text/html": [
              "<div>\n",
              "<style scoped>\n",
              "    .dataframe tbody tr th:only-of-type {\n",
              "        vertical-align: middle;\n",
              "    }\n",
              "\n",
              "    .dataframe tbody tr th {\n",
              "        vertical-align: top;\n",
              "    }\n",
              "\n",
              "    .dataframe thead th {\n",
              "        text-align: right;\n",
              "    }\n",
              "</style>\n",
              "<table border=\"1\" class=\"dataframe\">\n",
              "  <thead>\n",
              "    <tr style=\"text-align: right;\">\n",
              "      <th></th>\n",
              "      <th>A</th>\n",
              "      <th>B</th>\n",
              "      <th>C</th>\n",
              "      <th>D</th>\n",
              "    </tr>\n",
              "  </thead>\n",
              "  <tbody>\n",
              "    <tr>\n",
              "      <th>2019-10-25</th>\n",
              "      <td>0.050049</td>\n",
              "      <td>-0.789347</td>\n",
              "      <td>0.120385</td>\n",
              "      <td>0.011295</td>\n",
              "    </tr>\n",
              "    <tr>\n",
              "      <th>2019-10-26</th>\n",
              "      <td>2.034358</td>\n",
              "      <td>-0.331135</td>\n",
              "      <td>0.116702</td>\n",
              "      <td>0.881352</td>\n",
              "    </tr>\n",
              "    <tr>\n",
              "      <th>2019-10-27</th>\n",
              "      <td>-0.459417</td>\n",
              "      <td>1.007739</td>\n",
              "      <td>1.423321</td>\n",
              "      <td>-1.307063</td>\n",
              "    </tr>\n",
              "  </tbody>\n",
              "</table>\n",
              "</div>"
            ],
            "text/plain": [
              "                   A         B         C         D\n",
              "2019-10-25  0.050049 -0.789347  0.120385  0.011295\n",
              "2019-10-26  2.034358 -0.331135  0.116702  0.881352\n",
              "2019-10-27 -0.459417  1.007739  1.423321 -1.307063"
            ]
          },
          "metadata": {
            "tags": []
          },
          "execution_count": 34
        }
      ]
    },
    {
      "cell_type": "code",
      "metadata": {
        "id": "GfTg3HtjdPLm",
        "colab_type": "code",
        "colab": {}
      },
      "source": [
        ""
      ],
      "execution_count": 0,
      "outputs": []
    }
  ]
}